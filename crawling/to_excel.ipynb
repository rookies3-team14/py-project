{
 "cells": [
  {
   "cell_type": "code",
   "execution_count": 2,
   "id": "73d0efd9",
   "metadata": {},
   "outputs": [],
   "source": [
    "import job_list\n",
    "\n",
    "front_list = job_list.FRONT_STACK_LIST\n",
    "back_list =job_list.BACK_STACK_LIST\n",
    "ios_list = job_list.IOS_STACK_LIST\n",
    "cross_list = job_list.CROSS_STACK_LIST\n",
    "android_list = job_list.ANDROID_STACK_LIST\n",
    "game_list =job_list.GAME_STACK_LIST\n",
    "security_list = job_list.SECURITY_STACK_LIST\n",
    "cloud_list = job_list.CLOUD_STACK_LIST\n",
    "\n",
    "entire_list = [front_list, back_list, ios_list, cross_list, android_list, game_list, security_list, cloud_list]"
   ]
  },
  {
   "cell_type": "code",
   "execution_count": 3,
   "id": "2403aacc",
   "metadata": {},
   "outputs": [],
   "source": [
    "def count_data(data_list, elist, count_total):\n",
    "    count_s = {}\n",
    "    for d in data_list:\n",
    "        for e in elist:  \n",
    "            if d.strip() == e.strip():\n",
    "                if d not in count_s:\n",
    "                    count_s[d] = 1\n",
    "    count_total.append(count_s)"
   ]
  },
  {
   "cell_type": "code",
   "execution_count": 4,
   "id": "2206c42f",
   "metadata": {},
   "outputs": [],
   "source": [
    "import pandas as pd\n",
    "from pathlib import Path  # 파일 존재 여부를 체크하기 위한 모듈\n",
    "\n",
    "def write_excel(data_list):\n",
    "    count_total = list()\n",
    "    for e in entire_list:\n",
    "        count_data(data_list, e, count_total)\n",
    "\n",
    "    print(count_total)\n",
    "    \n",
    "    file_name = '../data/excel/StackList.xlsx'\n",
    "    sheet_names = ['FRONT_STACK_LIST','BACK_STACK_LIST','IOS_STACK_LIST', 'CROSS_STACK_LIST', 'ANDROID_STACK_LIST', 'GAME_STACK_LIST', \n",
    "                'SECURITY_STACK_LIST', 'CLOUD_STACK_LIST']\n",
    "    df_list = list()\n",
    "    for i in range(len(sheet_names)):\n",
    "        df = pd.DataFrame(list(count_total[i].items()), columns= ['stack', 'count'])\n",
    "        df.set_index('stack', inplace=True)  # stack을 인덱스로 설정\n",
    "        df_list.append(df)\n",
    "\n",
    "    total_df_list = list()\n",
    "    if Path(file_name).exists():\n",
    "        try:\n",
    "            for i in range(len(sheet_names)):\n",
    "                old_df = pd.read_excel(file_name, sheet_name=sheet_names[i], index_col=0)\n",
    "                total_df_list.append(old_df.add(df_list[i], fill_value=0))\n",
    "        except:\n",
    "            # 시트가 엑셀 파일 안에 없을 때\n",
    "            total_df_list = df_list\n",
    "    #엑셀 파일 없을 때\n",
    "    else:\n",
    "        total_df_list = df_list\n",
    "\n",
    "    with pd.ExcelWriter(file_name, engine='openpyxl', mode='a', if_sheet_exists='replace') as writer:\n",
    "        for sheet, df in zip(sheet_names, total_df_list):\n",
    "            df.to_excel(writer, sheet_name=sheet)\n",
    "       "
   ]
  },
  {
   "cell_type": "code",
   "execution_count": 5,
   "id": "b765b6ce",
   "metadata": {},
   "outputs": [
    {
     "name": "stdout",
     "output_type": "stream",
     "text": [
      "[{'react': 1, 'javascript': 1, 'typescript': 1, 'vue': 1, 'angular': 1}, {'java': 1, 'python': 1, 'postgresql': 1, 'docker': 1, 'kubernetes': 1}, {}, {}, {'java': 1}, {}, {}, {'jenkins': 1, 'docker': 1, 'kubernetes': 1}]\n"
     ]
    }
   ],
   "source": [
    "data_list = ['주', '브릭은', '과거와', '현재의', '경험을', '기반으로', '앞으로', '일어날', '일을', '예측하여', '삶을', '풍요롭게', '하는', '일을', '하고', '있습니다', '최근', '화두가', '되고', '있는', '4차', '산업의', '핵심', '기술인', 'data', '분석', '기술을', '기반으로', 'data', '분석', '컨설팅', 'data', '분석', '관련', 'sw', '및', 'solution을', '연구', '개발하는', '회사입니다', '현재', '반도체', '및', '디스플레이', '분야의', '주요', '고객사를', '확보하고', '있고', '다양한', '산업', '및', '일반', '사용자', '분야로', '사업을', '확장하고', '있습니다', 'data', '분석', '및', 'sw', '분야에서', '풍부한', '경험을', '가지고', '계신', '인재를', '확보하고', '있는', 'brique과', '함께', '성장할', '훌륭한', '인재들을', '모집합니다', '반도체', '관련', '어플리케이션', '개발', 'c', 's', '응용프로그램', '개발', '운영체제', 'window', 'linux', '개발환경', 'intellij', 'visula', 'studio', 'code', 'eclipes', '개발언어', 'java', 'react', 'javascript', 'typescript', 'python', 'r', 'vue', 'angular', '개발프레임워크', 'postgresql', 'mybatis', 'oracle', 'mssql', 'jap', 'ci', 'cd', 'git', 'jenkins', 'docker', 'docker', 'wsarm', 'kubernetes', '유관업무', '경력자', '즉시', '출근', '가능자', '해외', '출장', '가능자', '서류', '코딩테스트', '1차', '면접', '2차', '면접', '필요시', '채용검진', '최종합격', '4대보험', '퇴직연금', '연차', '경조휴가', '포상휴가', '출산휴가', '육아휴직', 'refresh', '휴가', '패밀리데이', '건강검진', '점심식사', '지원', '경조', '지원', '장기근속', '포상', '교육비', '지원', '직무능력향상교육', '리더십강화교육', '경기도', '성남시', '분당구', '판교역로', '230', '삼환하이펙스b동', '309호']\n",
    "\n",
    "\n",
    "write_excel(data_list)"
   ]
  }
 ],
 "metadata": {
  "kernelspec": {
   "display_name": "base",
   "language": "python",
   "name": "python3"
  },
  "language_info": {
   "codemirror_mode": {
    "name": "ipython",
    "version": 3
   },
   "file_extension": ".py",
   "mimetype": "text/x-python",
   "name": "python",
   "nbconvert_exporter": "python",
   "pygments_lexer": "ipython3",
   "version": "3.12.7"
  }
 },
 "nbformat": 4,
 "nbformat_minor": 5
}
