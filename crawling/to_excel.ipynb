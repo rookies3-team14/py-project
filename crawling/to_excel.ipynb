{
 "cells": [
  {
   "cell_type": "code",
   "execution_count": 9,
   "id": "73d0efd9",
   "metadata": {},
   "outputs": [],
   "source": [
    "import job_list\n",
    "\n",
    "front_list = job_list.FRONT_STACK_LIST\n",
    "back_list =job_list.BACK_STACK_LIST\n",
    "ios_list = job_list.IOS_STACK_LIST\n",
    "cross_list = job_list.CROSS_STACK_LIST\n",
    "android_list = job_list.ANDROID_STACK_LIST\n",
    "game_list =job_list.GAME_STACK_LIST\n",
    "security_list = job_list.SECURITY_STACK_LIST\n",
    "cloud_list = job_list.CLOUD_STACK_LIST\n",
    "\n",
    "entire_list = [front_list, back_list, ios_list, cross_list, android_list, game_list, security_list, cloud_list]"
   ]
  },
  {
   "cell_type": "code",
   "execution_count": 18,
   "id": "2403aacc",
   "metadata": {},
   "outputs": [],
   "source": [
    "import re\n",
    "def read_text():\n",
    "    f = open('../data/data.txt', \"r\")\n",
    "    data = f.read()\n",
    "    data = re.sub(r\"[ㄱ-힣\\[\\]',]\", '', data).split()\n",
    "    return data\n",
    "\n",
    "\n",
    "def count_data(dlist, count_total):\n",
    "    data = read_text()\n",
    "    count_s = {}\n",
    "    for d in data:\n",
    "        for elist in dlist:  \n",
    "            if d.strip() == elist.strip():\n",
    "                if d not in count_s:\n",
    "                    count_s[d] = 1\n",
    "    count_total.append(count_s)"
   ]
  },
  {
   "cell_type": "code",
   "execution_count": 19,
   "id": "598ad378",
   "metadata": {},
   "outputs": [
    {
     "name": "stdout",
     "output_type": "stream",
     "text": [
      "[{'react': 1, 'javascript': 1, 'typescript': 1, 'vue': 1, 'angular': 1}, {'java': 1, 'python': 1, 'postgresql': 1, 'docker': 1, 'kubernetes': 1}, {}, {}, {'java': 1}, {}, {}, {'jenkins': 1, 'docker': 1, 'kubernetes': 1}]\n"
     ]
    }
   ],
   "source": [
    "count_total = list()\n",
    "for e in entire_list:\n",
    "    count_data(e, count_total)\n",
    "\n",
    "print(count_total)"
   ]
  },
  {
   "cell_type": "code",
   "execution_count": 20,
   "id": "2206c42f",
   "metadata": {},
   "outputs": [],
   "source": [
    "import pandas as pd\n",
    "from pathlib import Path  # 파일 존재 여부를 체크하기 위한 모듈\n",
    "\n",
    "def write_excel():\n",
    "    file_name = '../data/excel/StackList.xlsx'\n",
    "    sheet_names = ['FRONT_STACK_LIST','BACK_STACK_LIST','IOS_STACK_LIST', 'CROSS_STACK_LIST', 'ANDROID_STACK_LIST', 'GAME_STACK_LIST', \n",
    "                'SECURITY_STACK_LIST', 'CLOUD_STACK_LIST']\n",
    "    df_list = list()\n",
    "    for i in range(len(sheet_names)):\n",
    "        df = pd.DataFrame(list(count_total[i].items()), columns= ['stack', 'count'])\n",
    "        df.set_index('stack', inplace=True)  # stack을 인덱스로 설정\n",
    "        df_list.append(df)\n",
    "\n",
    "    total_df_list = list()\n",
    "    if Path(file_name).exists():\n",
    "        try:\n",
    "            for i in range(len(sheet_names)):\n",
    "                old_df = pd.read_excel(file_name, sheet_name=sheet_names[i], index_col=0)\n",
    "                total_df_list.append(old_df.add(df_list[i], fill_value=0))\n",
    "        except:\n",
    "            # 시트가 엑셀 파일 안에 없을 때\n",
    "            total_df_list = df_list\n",
    "    #엑셀 파일 없을 때\n",
    "    else:\n",
    "        total_df_list = df_list\n",
    "\n",
    "    with pd.ExcelWriter(file_name, engine='openpyxl', mode='a', if_sheet_exists='replace') as writer:\n",
    "        for sheet, df in zip(sheet_names, total_df_list):\n",
    "            df.to_excel(writer, sheet_name=sheet)\n",
    "       "
   ]
  },
  {
   "cell_type": "code",
   "execution_count": 21,
   "id": "e20b8851",
   "metadata": {},
   "outputs": [],
   "source": [
    "write_excel()"
   ]
  }
 ],
 "metadata": {
  "kernelspec": {
   "display_name": "base",
   "language": "python",
   "name": "python3"
  },
  "language_info": {
   "codemirror_mode": {
    "name": "ipython",
    "version": 3
   },
   "file_extension": ".py",
   "mimetype": "text/x-python",
   "name": "python",
   "nbconvert_exporter": "python",
   "pygments_lexer": "ipython3",
   "version": "3.12.7"
  }
 },
 "nbformat": 4,
 "nbformat_minor": 5
}
